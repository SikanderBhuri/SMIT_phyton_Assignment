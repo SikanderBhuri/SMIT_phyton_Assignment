{
 "cells": [
  {
   "cell_type": "code",
   "execution_count": 1,
   "id": "8491b62f",
   "metadata": {},
   "outputs": [
    {
     "name": "stdout",
     "output_type": "stream",
     "text": [
      "Number of vowels in the string: 1\n"
     ]
    }
   ],
   "source": [
    "# Write a program that accepts a string from user. Your program should count and display number of vowels in that string.  \n",
    "def vowels(input_string):\n",
    "    vowels = \"aeiouAEIOU\"\n",
    "    count = 0\n",
    "    for char in input_string:\n",
    "        if char in vowels:\n",
    "            count += 1\n",
    "    return count\n",
    "\n",
    "user_input = input(\"Enter a string: \")\n",
    "vowel_count = vowels(user_input)\n",
    "print(\"Number of vowels in the string:\", vowel_count)"
   ]
  },
  {
   "cell_type": "code",
   "execution_count": null,
   "id": "62bb07c5",
   "metadata": {},
   "outputs": [],
   "source": [
    "# 2.\tWrite a program that reads a string from keyboard and display: \n",
    "def count_characters(input_string):\n",
    "    uppercase_count = 0\n",
    "    lowercase_count = 0\n",
    "    digit_count = 0\n",
    "    whitespace_count = 0\n",
    "\n",
    "    for char in input_string:\n",
    "        if char.isupper():\n",
    "            uppercase_count += 1\n",
    "        elif char.islower():\n",
    "            lowercase_count += 1\n",
    "        elif char.isdigit():\n",
    "            digit_count += 1\n",
    "        elif char.isspace():\n",
    "            whitespace_count += 1\n",
    "\n",
    "    return uppercase_count, lowercase_count, digit_count, whitespace_count"
   ]
  },
  {
   "cell_type": "code",
   "execution_count": null,
   "id": "6fb5a9f1",
   "metadata": {},
   "outputs": [],
   "source": [
    "# Write a Python program that accepts a string from user. Your program should create and display a new string where the first and last characters have been exchanged. For example if the user enters the string 'HELLO' then new string would be 'OELLH'  def exchange_first_last(input_string):\n",
    "def exchange_first_last(input_string):\n",
    "    if len(input_string) < 2:\n",
    "        return input_string\n",
    "    return input_string[-1] + input_string[1:-1] + input_string[0]  "
   ]
  },
  {
   "cell_type": "code",
   "execution_count": null,
   "id": "0ff4af60",
   "metadata": {},
   "outputs": [],
   "source": [
    "#4.\tWrite a Python program that accepts a string from user. Your program should create a new string in reverse of first string and display it.\n",
    "def reverse_string(input_string):\n",
    "    return input_string[::-1]\n",
    "\n",
    "user_input = input(\"Enter a string: \")\n",
    "reversed_string = reverse_string(user_input)\n",
    "print(\"Reversed string:\", reversed_string)"
   ]
  },
  {
   "cell_type": "code",
   "execution_count": null,
   "id": "4f673d79",
   "metadata": {},
   "outputs": [],
   "source": [
    "# 5.\tWrite a Python program that accepts a string from user. Your program should create a new string by shifting one position to left. For example if the user enters the string 'examination 2021' then new string would be 'xamination 2021e'  \n",
    "def shift_left(input_string):\n",
    "    if len(input_string) == 0:\n",
    "        return input_string\n",
    "    return input_string[1:] + input_string[0]"
   ]
  },
  {
   "cell_type": "code",
   "execution_count": null,
   "id": "213b9133",
   "metadata": {},
   "outputs": [],
   "source": [
    "#6.\tWrite a program that asks the user to input his name and print its initials. Assuming that the user always types first name, middle name and last name and does not include any unnecessary spaces. For example, if the user enters Ajay Kumar Garg the program should display A. K. G. Note:Don't use split() method  \n",
    "def get_initials(full_name):\n",
    "    initials = \"\"\n",
    "    if len(full_name) > 0:\n",
    "        initials += full_name[0].upper() + \".\"\n",
    "    for i in range(1, len(full_name)):\n",
    "        if full_name[i] == ' ' and i + 1 < len(full_name):\n",
    "            initials += \" \" + full_name[i + 1].upper() + \".\"\n",
    "    return initials"
   ]
  },
  {
   "cell_type": "code",
   "execution_count": null,
   "id": "c61cfdb0",
   "metadata": {},
   "outputs": [],
   "source": [
    "#7.\tA palindrome is a string that reads the same backward as forward. For example, the words dad, madam and radar are all palindromes. Write a programs that determines whether the string is a palindrome. Note: do not use reverse() method   \n",
    "def is_palindrome(input_string):\n",
    "    cleaned_string = ''.join(char.lower() for char in input_string if char.isalnum())\n",
    "    for i in range(len(cleaned_string) // 2):\n",
    "        if cleaned_string[i] != cleaned_string[-(i + 1)]:\n",
    "            return False\n",
    "    return True"
   ]
  },
  {
   "cell_type": "code",
   "execution_count": null,
   "id": "7d068b97",
   "metadata": {},
   "outputs": [],
   "source": [
    "#8.\tWrite a program that display following output: SHIFT HIFTS IFTSH FTSHI TSHIF SHIFT  \n",
    "\n",
    "def display_shifted_words(word):\n",
    "    current_word = word\n",
    "    for _ in range(len(word)):\n",
    "        print(current_word, end=\" \")\n",
    "        current_word = current_word[1:] + current_word[0]\n",
    "\n",
    "display_shifted_words(\"SHIFT\")"
   ]
  },
  {
   "cell_type": "code",
   "execution_count": null,
   "id": "d0fede97",
   "metadata": {},
   "outputs": [],
   "source": [
    "#9.\tWrite a program in python that accepts a string to setup a passwords. Your entered password must meet the following requirements: The password must be at least eight characters long. It must contain at least one uppercase letter. It must contain at least one lowercase letter. It must contain at least one numeric digit. Your program should should perform this validation.   \n",
    "def validate_password(password):\n",
    "    if len(password) < 8:\n",
    "        return False, \"Password must be at least eight characters long.\"\n",
    "    \n",
    "    has_upper = any(char.isupper() for char in password)\n",
    "    has_lower = any(char.islower() for char in password)\n",
    "    has_digit = any(char.isdigit() for char in password)\n",
    "    \n",
    "    if not has_upper:\n",
    "        return False, \"Password must contain at least one uppercase letter.\"\n",
    "    if not has_lower:\n",
    "        return False, \"Password must contain at least one lowercase letter.\"\n",
    "    if not has_digit:\n",
    "        return False, \"Password must contain at least one numeric digit.\"\n",
    "    \n",
    "    return True, \"Password is valid.\""
   ]
  }
 ],
 "metadata": {
  "kernelspec": {
   "display_name": "base",
   "language": "python",
   "name": "python3"
  },
  "language_info": {
   "codemirror_mode": {
    "name": "ipython",
    "version": 3
   },
   "file_extension": ".py",
   "mimetype": "text/x-python",
   "name": "python",
   "nbconvert_exporter": "python",
   "pygments_lexer": "ipython3",
   "version": "3.12.7"
  }
 },
 "nbformat": 4,
 "nbformat_minor": 5
}
